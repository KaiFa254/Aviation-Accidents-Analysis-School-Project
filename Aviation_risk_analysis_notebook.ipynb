{
 "cells": [
  {
   "cell_type": "markdown",
   "id": "9169e2d5",
   "metadata": {},
   "source": [
    "# **AVIATION ACCIDENTS RISK ANALYSIS**"
   ]
  },
  {
   "cell_type": "markdown",
   "id": "ef5c52dd",
   "metadata": {},
   "source": [
    "# **1. Introduction and Business Understanding**\n",
    "Our company is exploring entry into the aviation business by acquiring private and commercial operations aircrafts. \n",
    "\n",
    "To guide and inform this decison; we need a data driven risk analysis to gauge the risk associated with this venture. To get to this; we will analyze and understand the risks involved by focussing on\n",
    "\n",
    "- Aircraft types and manufacturers\n",
    "- Flight phases\n",
    "- Weather conditions\n",
    "- Injuries analysis\n",
    "\n",
    "**Problem**: The aviation division lacks data-driven insights on aviation risks for informed investment.\n",
    "\n",
    "**Stakeholder**: Head of Aviation Operations.\n",
    "\n",
    "**Goal**: Insights will help the stakeholder make safer investment decisions by avoiding high-risk aircraft and conditions.\n",
    "\n",
    "## **Overview**\n",
    "This project will be using NTSB aviation accident database to answer below key question that will guide Stakeholders and real world questions related to investments in this industry:\n",
    "\n",
    "- Which aircraft manufacturers and models are linked to the most fatal accidents?\n",
    "- Are there specific phases of flight or weather conditions that present higher risks?\n",
    "- How have accident trends evolved over time?\n",
    "- How are injury types correlated?\n",
    "\n",
    "# **2. Data Understanding**\n",
    "\n",
    "**Data Source**:\n",
    "- The Data source is from **[NTSB Aviation Accident Database (1962-present)](https://www.kaggle.com/datasets/khsamaha/aviation-accident-database-synopses)** — Civil aviation accidents in the U.S., its territories, and international waters.\n",
    "\n",
    "**Why this data?**:\n",
    "- This database contains comprehensive coverage of aviation accidenst, Aircraft information, flight conditions, injury states and many more that will help in answering our questions above. \n",
    "\n",
    "**Data Overview**:\n",
    "- The data has 88,889 entries and 31 columns. The main features to help us in this Analysis are Aircraft Make, Model,Fatality,Phase of Flight, Weather Conditions, Accident Date and Location. \n",
    "\n",
    "**Limitations**:\n",
    "- I note many missing values (e.g., Latitude, Longitude) and Data mostly concentrates on USA and may not fully represent the glaobal risks. \n",
    "\n",
    "\n",
    "\n",
    "\n"
   ]
  },
  {
   "cell_type": "code",
   "execution_count": 85,
   "id": "b780b08a",
   "metadata": {},
   "outputs": [],
   "source": [
    "#Importing Libraries to be used\n",
    "\n",
    "import pandas as pd\n",
    "import numpy as np\n",
    "from numbers import Number\n",
    "import matplotlib.pyplot as plt\n",
    "%matplotlib inline\n",
    "import seaborn as sns"
   ]
  },
  {
   "cell_type": "code",
   "execution_count": 86,
   "id": "1ffac7ba",
   "metadata": {},
   "outputs": [
    {
     "data": {
      "text/html": [
       "<div>\n",
       "<style scoped>\n",
       "    .dataframe tbody tr th:only-of-type {\n",
       "        vertical-align: middle;\n",
       "    }\n",
       "\n",
       "    .dataframe tbody tr th {\n",
       "        vertical-align: top;\n",
       "    }\n",
       "\n",
       "    .dataframe thead th {\n",
       "        text-align: right;\n",
       "    }\n",
       "</style>\n",
       "<table border=\"1\" class=\"dataframe\">\n",
       "  <thead>\n",
       "    <tr style=\"text-align: right;\">\n",
       "      <th></th>\n",
       "      <th>Event.Id</th>\n",
       "      <th>Investigation.Type</th>\n",
       "      <th>Accident.Number</th>\n",
       "      <th>Event.Date</th>\n",
       "      <th>Location</th>\n",
       "      <th>Country</th>\n",
       "      <th>Latitude</th>\n",
       "      <th>Longitude</th>\n",
       "      <th>Airport.Code</th>\n",
       "      <th>Airport.Name</th>\n",
       "      <th>...</th>\n",
       "      <th>Purpose.of.flight</th>\n",
       "      <th>Air.carrier</th>\n",
       "      <th>Total.Fatal.Injuries</th>\n",
       "      <th>Total.Serious.Injuries</th>\n",
       "      <th>Total.Minor.Injuries</th>\n",
       "      <th>Total.Uninjured</th>\n",
       "      <th>Weather.Condition</th>\n",
       "      <th>Broad.phase.of.flight</th>\n",
       "      <th>Report.Status</th>\n",
       "      <th>Publication.Date</th>\n",
       "    </tr>\n",
       "  </thead>\n",
       "  <tbody>\n",
       "    <tr>\n",
       "      <th>0</th>\n",
       "      <td>20001218X45444</td>\n",
       "      <td>Accident</td>\n",
       "      <td>SEA87LA080</td>\n",
       "      <td>1948-10-24</td>\n",
       "      <td>MOOSE CREEK, ID</td>\n",
       "      <td>United States</td>\n",
       "      <td>NaN</td>\n",
       "      <td>NaN</td>\n",
       "      <td>NaN</td>\n",
       "      <td>NaN</td>\n",
       "      <td>...</td>\n",
       "      <td>Personal</td>\n",
       "      <td>NaN</td>\n",
       "      <td>2.0</td>\n",
       "      <td>0.0</td>\n",
       "      <td>0.0</td>\n",
       "      <td>0.0</td>\n",
       "      <td>UNK</td>\n",
       "      <td>Cruise</td>\n",
       "      <td>Probable Cause</td>\n",
       "      <td>NaN</td>\n",
       "    </tr>\n",
       "    <tr>\n",
       "      <th>1</th>\n",
       "      <td>20001218X45447</td>\n",
       "      <td>Accident</td>\n",
       "      <td>LAX94LA336</td>\n",
       "      <td>1962-07-19</td>\n",
       "      <td>BRIDGEPORT, CA</td>\n",
       "      <td>United States</td>\n",
       "      <td>NaN</td>\n",
       "      <td>NaN</td>\n",
       "      <td>NaN</td>\n",
       "      <td>NaN</td>\n",
       "      <td>...</td>\n",
       "      <td>Personal</td>\n",
       "      <td>NaN</td>\n",
       "      <td>4.0</td>\n",
       "      <td>0.0</td>\n",
       "      <td>0.0</td>\n",
       "      <td>0.0</td>\n",
       "      <td>UNK</td>\n",
       "      <td>Unknown</td>\n",
       "      <td>Probable Cause</td>\n",
       "      <td>19-09-1996</td>\n",
       "    </tr>\n",
       "    <tr>\n",
       "      <th>2</th>\n",
       "      <td>20061025X01555</td>\n",
       "      <td>Accident</td>\n",
       "      <td>NYC07LA005</td>\n",
       "      <td>1974-08-30</td>\n",
       "      <td>Saltville, VA</td>\n",
       "      <td>United States</td>\n",
       "      <td>36.922223</td>\n",
       "      <td>-81.878056</td>\n",
       "      <td>NaN</td>\n",
       "      <td>NaN</td>\n",
       "      <td>...</td>\n",
       "      <td>Personal</td>\n",
       "      <td>NaN</td>\n",
       "      <td>3.0</td>\n",
       "      <td>NaN</td>\n",
       "      <td>NaN</td>\n",
       "      <td>NaN</td>\n",
       "      <td>IMC</td>\n",
       "      <td>Cruise</td>\n",
       "      <td>Probable Cause</td>\n",
       "      <td>26-02-2007</td>\n",
       "    </tr>\n",
       "    <tr>\n",
       "      <th>3</th>\n",
       "      <td>20001218X45448</td>\n",
       "      <td>Accident</td>\n",
       "      <td>LAX96LA321</td>\n",
       "      <td>1977-06-19</td>\n",
       "      <td>EUREKA, CA</td>\n",
       "      <td>United States</td>\n",
       "      <td>NaN</td>\n",
       "      <td>NaN</td>\n",
       "      <td>NaN</td>\n",
       "      <td>NaN</td>\n",
       "      <td>...</td>\n",
       "      <td>Personal</td>\n",
       "      <td>NaN</td>\n",
       "      <td>2.0</td>\n",
       "      <td>0.0</td>\n",
       "      <td>0.0</td>\n",
       "      <td>0.0</td>\n",
       "      <td>IMC</td>\n",
       "      <td>Cruise</td>\n",
       "      <td>Probable Cause</td>\n",
       "      <td>12-09-2000</td>\n",
       "    </tr>\n",
       "    <tr>\n",
       "      <th>4</th>\n",
       "      <td>20041105X01764</td>\n",
       "      <td>Accident</td>\n",
       "      <td>CHI79FA064</td>\n",
       "      <td>1979-08-02</td>\n",
       "      <td>Canton, OH</td>\n",
       "      <td>United States</td>\n",
       "      <td>NaN</td>\n",
       "      <td>NaN</td>\n",
       "      <td>NaN</td>\n",
       "      <td>NaN</td>\n",
       "      <td>...</td>\n",
       "      <td>Personal</td>\n",
       "      <td>NaN</td>\n",
       "      <td>1.0</td>\n",
       "      <td>2.0</td>\n",
       "      <td>NaN</td>\n",
       "      <td>0.0</td>\n",
       "      <td>VMC</td>\n",
       "      <td>Approach</td>\n",
       "      <td>Probable Cause</td>\n",
       "      <td>16-04-1980</td>\n",
       "    </tr>\n",
       "  </tbody>\n",
       "</table>\n",
       "<p>5 rows × 31 columns</p>\n",
       "</div>"
      ],
      "text/plain": [
       "         Event.Id Investigation.Type Accident.Number  Event.Date  \\\n",
       "0  20001218X45444           Accident      SEA87LA080  1948-10-24   \n",
       "1  20001218X45447           Accident      LAX94LA336  1962-07-19   \n",
       "2  20061025X01555           Accident      NYC07LA005  1974-08-30   \n",
       "3  20001218X45448           Accident      LAX96LA321  1977-06-19   \n",
       "4  20041105X01764           Accident      CHI79FA064  1979-08-02   \n",
       "\n",
       "          Location        Country   Latitude   Longitude Airport.Code  \\\n",
       "0  MOOSE CREEK, ID  United States        NaN         NaN          NaN   \n",
       "1   BRIDGEPORT, CA  United States        NaN         NaN          NaN   \n",
       "2    Saltville, VA  United States  36.922223  -81.878056          NaN   \n",
       "3       EUREKA, CA  United States        NaN         NaN          NaN   \n",
       "4       Canton, OH  United States        NaN         NaN          NaN   \n",
       "\n",
       "  Airport.Name  ... Purpose.of.flight Air.carrier Total.Fatal.Injuries  \\\n",
       "0          NaN  ...          Personal         NaN                  2.0   \n",
       "1          NaN  ...          Personal         NaN                  4.0   \n",
       "2          NaN  ...          Personal         NaN                  3.0   \n",
       "3          NaN  ...          Personal         NaN                  2.0   \n",
       "4          NaN  ...          Personal         NaN                  1.0   \n",
       "\n",
       "  Total.Serious.Injuries Total.Minor.Injuries Total.Uninjured  \\\n",
       "0                    0.0                  0.0             0.0   \n",
       "1                    0.0                  0.0             0.0   \n",
       "2                    NaN                  NaN             NaN   \n",
       "3                    0.0                  0.0             0.0   \n",
       "4                    2.0                  NaN             0.0   \n",
       "\n",
       "  Weather.Condition  Broad.phase.of.flight   Report.Status Publication.Date  \n",
       "0               UNK                 Cruise  Probable Cause              NaN  \n",
       "1               UNK                Unknown  Probable Cause       19-09-1996  \n",
       "2               IMC                 Cruise  Probable Cause       26-02-2007  \n",
       "3               IMC                 Cruise  Probable Cause       12-09-2000  \n",
       "4               VMC               Approach  Probable Cause       16-04-1980  \n",
       "\n",
       "[5 rows x 31 columns]"
      ]
     },
     "execution_count": 86,
     "metadata": {},
     "output_type": "execute_result"
    }
   ],
   "source": [
    "#Loading the Data from a CSV file\n",
    "#We are encoding as the file stores characters using diffrent encoding.\n",
    "df = pd.read_csv ('.\\data\\AviationData.csv', encoding='latin1', low_memory=False)\n",
    "\n",
    "# Show the first 5 rows to familiarize with the dataset\n",
    "df.head()"
   ]
  },
  {
   "cell_type": "code",
   "execution_count": 87,
   "id": "2d225ca0",
   "metadata": {},
   "outputs": [
    {
     "name": "stdout",
     "output_type": "stream",
     "text": [
      " Dataset contains 88889 Rows and 31 Columns.\n"
     ]
    }
   ],
   "source": [
    "#Shape of the Dataset\n",
    "\n",
    "print(f\" Dataset contains {df.shape[0]} Rows and {df.shape[1]} Columns.\")"
   ]
  },
  {
   "cell_type": "code",
   "execution_count": 88,
   "id": "49fd01f3",
   "metadata": {},
   "outputs": [
    {
     "name": "stdout",
     "output_type": "stream",
     "text": [
      "<class 'pandas.core.frame.DataFrame'>\n",
      "RangeIndex: 88889 entries, 0 to 88888\n",
      "Data columns (total 31 columns):\n",
      " #   Column                  Non-Null Count  Dtype  \n",
      "---  ------                  --------------  -----  \n",
      " 0   Event.Id                88889 non-null  object \n",
      " 1   Investigation.Type      88889 non-null  object \n",
      " 2   Accident.Number         88889 non-null  object \n",
      " 3   Event.Date              88889 non-null  object \n",
      " 4   Location                88837 non-null  object \n",
      " 5   Country                 88663 non-null  object \n",
      " 6   Latitude                34382 non-null  object \n",
      " 7   Longitude               34373 non-null  object \n",
      " 8   Airport.Code            50249 non-null  object \n",
      " 9   Airport.Name            52790 non-null  object \n",
      " 10  Injury.Severity         87889 non-null  object \n",
      " 11  Aircraft.damage         85695 non-null  object \n",
      " 12  Aircraft.Category       32287 non-null  object \n",
      " 13  Registration.Number     87572 non-null  object \n",
      " 14  Make                    88826 non-null  object \n",
      " 15  Model                   88797 non-null  object \n",
      " 16  Amateur.Built           88787 non-null  object \n",
      " 17  Number.of.Engines       82805 non-null  float64\n",
      " 18  Engine.Type             81812 non-null  object \n",
      " 19  FAR.Description         32023 non-null  object \n",
      " 20  Schedule                12582 non-null  object \n",
      " 21  Purpose.of.flight       82697 non-null  object \n",
      " 22  Air.carrier             16648 non-null  object \n",
      " 23  Total.Fatal.Injuries    77488 non-null  float64\n",
      " 24  Total.Serious.Injuries  76379 non-null  float64\n",
      " 25  Total.Minor.Injuries    76956 non-null  float64\n",
      " 26  Total.Uninjured         82977 non-null  float64\n",
      " 27  Weather.Condition       84397 non-null  object \n",
      " 28  Broad.phase.of.flight   61724 non-null  object \n",
      " 29  Report.Status           82508 non-null  object \n",
      " 30  Publication.Date        75118 non-null  object \n",
      "dtypes: float64(5), object(26)\n",
      "memory usage: 21.0+ MB\n"
     ]
    }
   ],
   "source": [
    "#Display a summary description of the dataset\n",
    "#shows entries count, column names,non-null counts and data types.\n",
    "\n",
    "df.info()"
   ]
  },
  {
   "cell_type": "markdown",
   "id": "dc0d3ae2",
   "metadata": {},
   "source": [
    "### df.info Key Observations\n",
    "- Date Columns (Event.Date, Publication.Date) are currently stored as object types — should be converted to datetime later.\n",
    "- More than 50% OF Latitude and Longitude have missing values\n",
    "- Country, Location, and Injury.Severity,FAR.Description and  Aircraft.Category have relatively minimal non-null counts."
   ]
  },
  {
   "cell_type": "code",
   "execution_count": 89,
   "id": "a11f6423",
   "metadata": {},
   "outputs": [
    {
     "data": {
      "text/html": [
       "<div>\n",
       "<style scoped>\n",
       "    .dataframe tbody tr th:only-of-type {\n",
       "        vertical-align: middle;\n",
       "    }\n",
       "\n",
       "    .dataframe tbody tr th {\n",
       "        vertical-align: top;\n",
       "    }\n",
       "\n",
       "    .dataframe thead th {\n",
       "        text-align: right;\n",
       "    }\n",
       "</style>\n",
       "<table border=\"1\" class=\"dataframe\">\n",
       "  <thead>\n",
       "    <tr style=\"text-align: right;\">\n",
       "      <th></th>\n",
       "      <th>Number.of.Engines</th>\n",
       "      <th>Total.Fatal.Injuries</th>\n",
       "      <th>Total.Serious.Injuries</th>\n",
       "      <th>Total.Minor.Injuries</th>\n",
       "      <th>Total.Uninjured</th>\n",
       "    </tr>\n",
       "  </thead>\n",
       "  <tbody>\n",
       "    <tr>\n",
       "      <th>count</th>\n",
       "      <td>82805.000000</td>\n",
       "      <td>77488.000000</td>\n",
       "      <td>76379.000000</td>\n",
       "      <td>76956.000000</td>\n",
       "      <td>82977.000000</td>\n",
       "    </tr>\n",
       "    <tr>\n",
       "      <th>mean</th>\n",
       "      <td>1.146585</td>\n",
       "      <td>0.647855</td>\n",
       "      <td>0.279881</td>\n",
       "      <td>0.357061</td>\n",
       "      <td>5.325440</td>\n",
       "    </tr>\n",
       "    <tr>\n",
       "      <th>std</th>\n",
       "      <td>0.446510</td>\n",
       "      <td>5.485960</td>\n",
       "      <td>1.544084</td>\n",
       "      <td>2.235625</td>\n",
       "      <td>27.913634</td>\n",
       "    </tr>\n",
       "    <tr>\n",
       "      <th>min</th>\n",
       "      <td>0.000000</td>\n",
       "      <td>0.000000</td>\n",
       "      <td>0.000000</td>\n",
       "      <td>0.000000</td>\n",
       "      <td>0.000000</td>\n",
       "    </tr>\n",
       "    <tr>\n",
       "      <th>25%</th>\n",
       "      <td>1.000000</td>\n",
       "      <td>0.000000</td>\n",
       "      <td>0.000000</td>\n",
       "      <td>0.000000</td>\n",
       "      <td>0.000000</td>\n",
       "    </tr>\n",
       "    <tr>\n",
       "      <th>50%</th>\n",
       "      <td>1.000000</td>\n",
       "      <td>0.000000</td>\n",
       "      <td>0.000000</td>\n",
       "      <td>0.000000</td>\n",
       "      <td>1.000000</td>\n",
       "    </tr>\n",
       "    <tr>\n",
       "      <th>75%</th>\n",
       "      <td>1.000000</td>\n",
       "      <td>0.000000</td>\n",
       "      <td>0.000000</td>\n",
       "      <td>0.000000</td>\n",
       "      <td>2.000000</td>\n",
       "    </tr>\n",
       "    <tr>\n",
       "      <th>max</th>\n",
       "      <td>8.000000</td>\n",
       "      <td>349.000000</td>\n",
       "      <td>161.000000</td>\n",
       "      <td>380.000000</td>\n",
       "      <td>699.000000</td>\n",
       "    </tr>\n",
       "  </tbody>\n",
       "</table>\n",
       "</div>"
      ],
      "text/plain": [
       "       Number.of.Engines  Total.Fatal.Injuries  Total.Serious.Injuries  \\\n",
       "count       82805.000000          77488.000000            76379.000000   \n",
       "mean            1.146585              0.647855                0.279881   \n",
       "std             0.446510              5.485960                1.544084   \n",
       "min             0.000000              0.000000                0.000000   \n",
       "25%             1.000000              0.000000                0.000000   \n",
       "50%             1.000000              0.000000                0.000000   \n",
       "75%             1.000000              0.000000                0.000000   \n",
       "max             8.000000            349.000000              161.000000   \n",
       "\n",
       "       Total.Minor.Injuries  Total.Uninjured  \n",
       "count          76956.000000     82977.000000  \n",
       "mean               0.357061         5.325440  \n",
       "std                2.235625        27.913634  \n",
       "min                0.000000         0.000000  \n",
       "25%                0.000000         0.000000  \n",
       "50%                0.000000         1.000000  \n",
       "75%                0.000000         2.000000  \n",
       "max              380.000000       699.000000  "
      ]
     },
     "execution_count": 89,
     "metadata": {},
     "output_type": "execute_result"
    }
   ],
   "source": [
    "#getting a statistical overview of the datasets numerical columns\n",
    "#\n",
    "df.describe()"
   ]
  },
  {
   "cell_type": "markdown",
   "id": "60ada9fa",
   "metadata": {},
   "source": [
    "### df.describe Key Observations\n",
    "- Possible data quality issues to check as we note events with 0 engines, Most Values are also zero with extreme outliers. \n",
    "- Most Aircrafts had 1 engine as per mean 1.15 and 75% is 1. "
   ]
  },
  {
   "cell_type": "code",
   "execution_count": 90,
   "id": "7d1f90f4",
   "metadata": {},
   "outputs": [
    {
     "data": {
      "text/plain": [
       "Schedule                  76307\n",
       "Air.carrier               72241\n",
       "FAR.Description           56866\n",
       "Aircraft.Category         56602\n",
       "Longitude                 54516\n",
       "Latitude                  54507\n",
       "Airport.Code              38640\n",
       "Airport.Name              36099\n",
       "Broad.phase.of.flight     27165\n",
       "Publication.Date          13771\n",
       "Total.Serious.Injuries    12510\n",
       "Total.Minor.Injuries      11933\n",
       "Total.Fatal.Injuries      11401\n",
       "Engine.Type                7077\n",
       "Report.Status              6381\n",
       "Purpose.of.flight          6192\n",
       "Number.of.Engines          6084\n",
       "Total.Uninjured            5912\n",
       "Weather.Condition          4492\n",
       "Aircraft.damage            3194\n",
       "Registration.Number        1317\n",
       "Injury.Severity            1000\n",
       "Country                     226\n",
       "Amateur.Built               102\n",
       "Model                        92\n",
       "Make                         63\n",
       "Location                     52\n",
       "Investigation.Type            0\n",
       "Event.Date                    0\n",
       "Accident.Number               0\n",
       "Event.Id                      0\n",
       "dtype: int64"
      ]
     },
     "execution_count": 90,
     "metadata": {},
     "output_type": "execute_result"
    }
   ],
   "source": [
    "# Missing Values Overview as noted above in Descending format\n",
    "\n",
    "Missing_values=df.isnull().sum().sort_values(ascending=False)\n",
    "Missing_values"
   ]
  },
  {
   "cell_type": "markdown",
   "id": "100fa447",
   "metadata": {},
   "source": [
    "### Missing Values Key Observations\n",
    "- Key Columns like Investigation.Type, Event.Date, Accident.Number, and Event.Id have no missing values \n",
    "- Critical fields like Publication.Date, Total.Serious.Injuries, Total.Fatal.Injuries, and Total.Minor.Injuries have many missing items. "
   ]
  },
  {
   "cell_type": "markdown",
   "id": "b689e6de",
   "metadata": {},
   "source": [
    "# **3. Data Cleaning and Preparation**"
   ]
  },
  {
   "cell_type": "markdown",
   "id": "dc0a566b",
   "metadata": {},
   "source": [
    "##### *3.1 Handling missing values*\n",
    "\n"
   ]
  },
  {
   "cell_type": "code",
   "execution_count": 91,
   "id": "09429ee9",
   "metadata": {},
   "outputs": [
    {
     "data": {
      "text/html": [
       "<div>\n",
       "<style scoped>\n",
       "    .dataframe tbody tr th:only-of-type {\n",
       "        vertical-align: middle;\n",
       "    }\n",
       "\n",
       "    .dataframe tbody tr th {\n",
       "        vertical-align: top;\n",
       "    }\n",
       "\n",
       "    .dataframe thead th {\n",
       "        text-align: right;\n",
       "    }\n",
       "</style>\n",
       "<table border=\"1\" class=\"dataframe\">\n",
       "  <thead>\n",
       "    <tr style=\"text-align: right;\">\n",
       "      <th></th>\n",
       "      <th>Missing values</th>\n",
       "      <th>Percentages</th>\n",
       "    </tr>\n",
       "  </thead>\n",
       "  <tbody>\n",
       "    <tr>\n",
       "      <th>Schedule</th>\n",
       "      <td>76307</td>\n",
       "      <td>85.845268</td>\n",
       "    </tr>\n",
       "    <tr>\n",
       "      <th>Air.carrier</th>\n",
       "      <td>72241</td>\n",
       "      <td>81.271023</td>\n",
       "    </tr>\n",
       "    <tr>\n",
       "      <th>FAR.Description</th>\n",
       "      <td>56866</td>\n",
       "      <td>63.974170</td>\n",
       "    </tr>\n",
       "    <tr>\n",
       "      <th>Aircraft.Category</th>\n",
       "      <td>56602</td>\n",
       "      <td>63.677170</td>\n",
       "    </tr>\n",
       "    <tr>\n",
       "      <th>Longitude</th>\n",
       "      <td>54516</td>\n",
       "      <td>61.330423</td>\n",
       "    </tr>\n",
       "    <tr>\n",
       "      <th>Latitude</th>\n",
       "      <td>54507</td>\n",
       "      <td>61.320298</td>\n",
       "    </tr>\n",
       "    <tr>\n",
       "      <th>Airport.Code</th>\n",
       "      <td>38640</td>\n",
       "      <td>43.469946</td>\n",
       "    </tr>\n",
       "    <tr>\n",
       "      <th>Airport.Name</th>\n",
       "      <td>36099</td>\n",
       "      <td>40.611324</td>\n",
       "    </tr>\n",
       "    <tr>\n",
       "      <th>Broad.phase.of.flight</th>\n",
       "      <td>27165</td>\n",
       "      <td>30.560587</td>\n",
       "    </tr>\n",
       "    <tr>\n",
       "      <th>Publication.Date</th>\n",
       "      <td>13771</td>\n",
       "      <td>15.492356</td>\n",
       "    </tr>\n",
       "  </tbody>\n",
       "</table>\n",
       "</div>"
      ],
      "text/plain": [
       "                       Missing values  Percentages\n",
       "Schedule                        76307    85.845268\n",
       "Air.carrier                     72241    81.271023\n",
       "FAR.Description                 56866    63.974170\n",
       "Aircraft.Category               56602    63.677170\n",
       "Longitude                       54516    61.330423\n",
       "Latitude                        54507    61.320298\n",
       "Airport.Code                    38640    43.469946\n",
       "Airport.Name                    36099    40.611324\n",
       "Broad.phase.of.flight           27165    30.560587\n",
       "Publication.Date                13771    15.492356"
      ]
     },
     "execution_count": 91,
     "metadata": {},
     "output_type": "execute_result"
    }
   ],
   "source": [
    "#Summarizing Missing Values by percentage\n",
    "\n",
    "Missing_values_percentages = (Missing_values/len(df)) *100\n",
    "\n",
    "Missing_summary =pd.DataFrame({\"Missing values\": Missing_values,\"Percentages\": Missing_values_percentages })\n",
    "\n",
    "Missing_summary.head(10) #Top 10 Names"
   ]
  },
  {
   "cell_type": "markdown",
   "id": "9b6a9242",
   "metadata": {},
   "source": [
    "- Dropping columns"
   ]
  },
  {
   "cell_type": "code",
   "execution_count": 92,
   "id": "83aa0f89",
   "metadata": {},
   "outputs": [
    {
     "data": {
      "text/html": [
       "<div>\n",
       "<style scoped>\n",
       "    .dataframe tbody tr th:only-of-type {\n",
       "        vertical-align: middle;\n",
       "    }\n",
       "\n",
       "    .dataframe tbody tr th {\n",
       "        vertical-align: top;\n",
       "    }\n",
       "\n",
       "    .dataframe thead th {\n",
       "        text-align: right;\n",
       "    }\n",
       "</style>\n",
       "<table border=\"1\" class=\"dataframe\">\n",
       "  <thead>\n",
       "    <tr style=\"text-align: right;\">\n",
       "      <th></th>\n",
       "      <th>Event.Id</th>\n",
       "      <th>Event.Date</th>\n",
       "      <th>Country</th>\n",
       "      <th>Injury.Severity</th>\n",
       "      <th>Aircraft.damage</th>\n",
       "      <th>Make</th>\n",
       "      <th>Model</th>\n",
       "      <th>Amateur.Built</th>\n",
       "      <th>Number.of.Engines</th>\n",
       "      <th>Engine.Type</th>\n",
       "      <th>Total.Fatal.Injuries</th>\n",
       "      <th>Total.Serious.Injuries</th>\n",
       "      <th>Total.Minor.Injuries</th>\n",
       "      <th>Total.Uninjured</th>\n",
       "      <th>Weather.Condition</th>\n",
       "      <th>Broad.phase.of.flight</th>\n",
       "    </tr>\n",
       "  </thead>\n",
       "  <tbody>\n",
       "    <tr>\n",
       "      <th>0</th>\n",
       "      <td>20001218X45444</td>\n",
       "      <td>1948-10-24</td>\n",
       "      <td>United States</td>\n",
       "      <td>Fatal(2)</td>\n",
       "      <td>Destroyed</td>\n",
       "      <td>Stinson</td>\n",
       "      <td>108-3</td>\n",
       "      <td>No</td>\n",
       "      <td>1.0</td>\n",
       "      <td>Reciprocating</td>\n",
       "      <td>2.0</td>\n",
       "      <td>0.0</td>\n",
       "      <td>0.0</td>\n",
       "      <td>0.0</td>\n",
       "      <td>UNK</td>\n",
       "      <td>Cruise</td>\n",
       "    </tr>\n",
       "    <tr>\n",
       "      <th>1</th>\n",
       "      <td>20001218X45447</td>\n",
       "      <td>1962-07-19</td>\n",
       "      <td>United States</td>\n",
       "      <td>Fatal(4)</td>\n",
       "      <td>Destroyed</td>\n",
       "      <td>Piper</td>\n",
       "      <td>PA24-180</td>\n",
       "      <td>No</td>\n",
       "      <td>1.0</td>\n",
       "      <td>Reciprocating</td>\n",
       "      <td>4.0</td>\n",
       "      <td>0.0</td>\n",
       "      <td>0.0</td>\n",
       "      <td>0.0</td>\n",
       "      <td>UNK</td>\n",
       "      <td>Unknown</td>\n",
       "    </tr>\n",
       "  </tbody>\n",
       "</table>\n",
       "</div>"
      ],
      "text/plain": [
       "         Event.Id  Event.Date        Country Injury.Severity Aircraft.damage  \\\n",
       "0  20001218X45444  1948-10-24  United States        Fatal(2)       Destroyed   \n",
       "1  20001218X45447  1962-07-19  United States        Fatal(4)       Destroyed   \n",
       "\n",
       "      Make     Model Amateur.Built  Number.of.Engines    Engine.Type  \\\n",
       "0  Stinson     108-3            No                1.0  Reciprocating   \n",
       "1    Piper  PA24-180            No                1.0  Reciprocating   \n",
       "\n",
       "   Total.Fatal.Injuries  Total.Serious.Injuries  Total.Minor.Injuries  \\\n",
       "0                   2.0                     0.0                   0.0   \n",
       "1                   4.0                     0.0                   0.0   \n",
       "\n",
       "   Total.Uninjured Weather.Condition Broad.phase.of.flight  \n",
       "0              0.0               UNK                Cruise  \n",
       "1              0.0               UNK               Unknown  "
      ]
     },
     "execution_count": 92,
     "metadata": {},
     "output_type": "execute_result"
    }
   ],
   "source": [
    "#we drop columns with more that 50% missing entries and irrevant columns as earlier picked and as per above analysis\n",
    "\n",
    "cols_to_drop=[\"Schedule\",\"Air.carrier\",\"FAR.Description\",\"Aircraft.Category\",\"Longitude\",\"Latitude\"] #missing many values\n",
    "irrelevant_cols=['Accident.Number', 'Location','Airport.Code', 'Airport.Name', 'Investigation.Type', 'Schedule', \n",
    "                 'Purpose.of.flight','Registration.Number','Publication.Date','Report.Status']        #irrelevant columns to our questions\n",
    "full_cols_to_drop = cols_to_drop+irrelevant_cols\n",
    "clean_df = df.drop(columns=full_cols_to_drop) #we craete a new dataframe for cleaned data\n",
    "clean_df.head(2)"
   ]
  },
  {
   "cell_type": "markdown",
   "id": "caf375b4",
   "metadata": {},
   "source": [
    "- Replacing Values"
   ]
  },
  {
   "cell_type": "code",
   "execution_count": 93,
   "id": "4ae29a5d",
   "metadata": {},
   "outputs": [
    {
     "data": {
      "text/plain": [
       "Non-Fatal      0.766387\n",
       "FATAL          0.202824\n",
       "Incident       0.025248\n",
       "Minor          0.002480\n",
       "Serious        0.001968\n",
       "Unavailable    0.001092\n",
       "Name: Injury.Severity, dtype: float64"
      ]
     },
     "execution_count": 93,
     "metadata": {},
     "output_type": "execute_result"
    }
   ],
   "source": [
    "# 1. Adjusting injury related fields missing or blank to zero (we assume no injuries)\n",
    "\n",
    "injury_cols = [\n",
    "    'Total.Fatal.Injuries', \n",
    "    'Total.Serious.Injuries', \n",
    "    'Total.Minor.Injuries', \n",
    "    'Total.Uninjured'\n",
    "]\n",
    "\n",
    "clean_df[injury_cols]=clean_df[injury_cols].fillna(0)\n",
    "\n",
    "# 2. Replace 0 engines with one and blanks with 1 too- Most Aircrafts had 1 engine as per mean 1.15 and 75% is 1. \n",
    "\n",
    "clean_df[\"Number.of.Engines\"] =clean_df[\"Number.of.Engines\"].replace(0,1)\n",
    "clean_df[\"Number.of.Engines\"] =clean_df[\"Number.of.Engines\"].fillna(1)\n",
    "\n",
    "\n",
    "# 3. Filling missing values in important columns\n",
    "\n",
    "importantant_cols = ['Weather.Condition', 'Broad.phase.of.flight', 'Aircraft.damage', 'Engine.Type']\n",
    "\n",
    "clean_df[importantant_cols]=clean_df[importantant_cols].fillna(\"UNKNOWN\")\n",
    "\n",
    "# 4. replace weather condition to correct names \n",
    "clean_df[\"Weather.Condition\"]=clean_df[\"Weather.Condition\"].str.upper().str.strip()\n",
    "\n",
    "clean_df[\"Weather.Condition\"]=clean_df[\"Weather.Condition\"].replace({'VMC': 'Clear weather','IMC': 'Bad weather','UNK': 'UNKNOWN'})\n",
    "\n",
    "# 5. Cleaninhg Injury.Severity Column to align the Fatal entries to [Non-Fatal,FATAL,Incident,Minor,Serious]\n",
    "\n",
    "clean_df['Injury.Severity'].unique().tolist() # view of the unique items\n",
    "\n",
    "clean_df['Injury.Severity']=clean_df['Injury.Severity'].map(lambda x: \"FATAL\" if str(x).strip().upper().startswith(\"FATAL\") else x)\n",
    "\n",
    "clean_df['Injury.Severity'].value_counts(normalize=True)\n",
    "\n"
   ]
  },
  {
   "cell_type": "markdown",
   "id": "1a2c244d",
   "metadata": {},
   "source": [
    "- Droping Rows"
   ]
  },
  {
   "cell_type": "code",
   "execution_count": 94,
   "id": "63e15ed7",
   "metadata": {},
   "outputs": [
    {
     "name": "stdout",
     "output_type": "stream",
     "text": [
      "<class 'pandas.core.frame.DataFrame'>\n",
      "Int64Index: 87474 entries, 0 to 88888\n",
      "Data columns (total 16 columns):\n",
      " #   Column                  Non-Null Count  Dtype  \n",
      "---  ------                  --------------  -----  \n",
      " 0   Event.Id                87474 non-null  object \n",
      " 1   Event.Date              87474 non-null  object \n",
      " 2   Country                 87474 non-null  object \n",
      " 3   Injury.Severity         87474 non-null  object \n",
      " 4   Aircraft.damage         87474 non-null  object \n",
      " 5   Make                    87474 non-null  object \n",
      " 6   Model                   87474 non-null  object \n",
      " 7   Amateur.Built           87474 non-null  object \n",
      " 8   Number.of.Engines       87474 non-null  float64\n",
      " 9   Engine.Type             87474 non-null  object \n",
      " 10  Total.Fatal.Injuries    87474 non-null  float64\n",
      " 11  Total.Serious.Injuries  87474 non-null  float64\n",
      " 12  Total.Minor.Injuries    87474 non-null  float64\n",
      " 13  Total.Uninjured         87474 non-null  float64\n",
      " 14  Weather.Condition       87474 non-null  object \n",
      " 15  Broad.phase.of.flight   87474 non-null  object \n",
      "dtypes: float64(5), object(11)\n",
      "memory usage: 11.3+ MB\n"
     ]
    }
   ],
   "source": [
    "# we drop rows where colums has few missing values\n",
    "\n",
    "\n",
    "small_missing_cols = [\"Country\",\"Injury.Severity\",'Make', 'Model', 'Amateur.Built', 'Injury.Severity']\n",
    "clean_df=clean_df.dropna(subset=small_missing_cols)\n",
    "clean_df.info()\n"
   ]
  },
  {
   "cell_type": "markdown",
   "id": "f12bfa92",
   "metadata": {},
   "source": [
    "##### *3.2 Convert Date columns to Date Formats and year column add*"
   ]
  },
  {
   "cell_type": "code",
   "execution_count": 95,
   "id": "9487d796",
   "metadata": {},
   "outputs": [],
   "source": [
    "# Event.Date and Publication.Date columns type conversion to date\n",
    "# Publication.Date column needs to be formated as it is not in iso format (YYYY-MM-DD)\n",
    "# To Avoid errors, we use errors argument to convert invalid dates to NaT (Missing Date)\n",
    "\n",
    "clean_df[\"Event.Date\"]=pd.to_datetime(clean_df[\"Event.Date\"],errors=\"coerce\")\n",
    "\n",
    "\n",
    "## Adding Year Column for the Event\n",
    "clean_df[\"Event Year\"]=clean_df[\"Event.Date\"].dt.year\n",
    "\n"
   ]
  },
  {
   "cell_type": "markdown",
   "id": "b41c6db5",
   "metadata": {},
   "source": [
    "##### *3.4 Convert Data Types*"
   ]
  },
  {
   "cell_type": "code",
   "execution_count": 96,
   "id": "0da9aa7f",
   "metadata": {},
   "outputs": [],
   "source": [
    "cols_to_numeric = [\"Total.Fatal.Injuries\",\"Total.Serious.Injuries\",\"Total.Minor.Injuries\",\"Total.Uninjured\"]\n",
    "\n",
    "for col in cols_to_numeric:\n",
    "    pd.to_numeric(clean_df[col], errors='coerce')\n",
    "\n"
   ]
  },
  {
   "cell_type": "markdown",
   "id": "36c9373d",
   "metadata": {},
   "source": [
    "##### *3.3 Standardizing object columns*"
   ]
  },
  {
   "cell_type": "code",
   "execution_count": 97,
   "id": "0470e0d6",
   "metadata": {},
   "outputs": [],
   "source": [
    "#cleaning all object\n",
    "\n",
    "clean_df[clean_df.select_dtypes(include=\"object\").columns]=clean_df.select_dtypes(include=\"object\").apply(lambda x: x.str.upper().str.strip())"
   ]
  },
  {
   "cell_type": "markdown",
   "id": "6107cdcb",
   "metadata": {},
   "source": [
    "##### *3.4 Our cleaned Data Overview*"
   ]
  },
  {
   "cell_type": "code",
   "execution_count": 98,
   "id": "29222ccc",
   "metadata": {},
   "outputs": [
    {
     "name": "stdout",
     "output_type": "stream",
     "text": [
      "________________________________________________________________________________\n",
      " Dataset contains 87474 Rows and 17 Columns.\n",
      "________________________________________________________________________________\n",
      "<class 'pandas.core.frame.DataFrame'>\n",
      "Int64Index: 87474 entries, 0 to 88888\n",
      "Data columns (total 17 columns):\n",
      " #   Column                  Non-Null Count  Dtype         \n",
      "---  ------                  --------------  -----         \n",
      " 0   Event.Id                87474 non-null  object        \n",
      " 1   Event.Date              87474 non-null  datetime64[ns]\n",
      " 2   Country                 87474 non-null  object        \n",
      " 3   Injury.Severity         87474 non-null  object        \n",
      " 4   Aircraft.damage         87474 non-null  object        \n",
      " 5   Make                    87474 non-null  object        \n",
      " 6   Model                   87474 non-null  object        \n",
      " 7   Amateur.Built           87474 non-null  object        \n",
      " 8   Number.of.Engines       87474 non-null  float64       \n",
      " 9   Engine.Type             87474 non-null  object        \n",
      " 10  Total.Fatal.Injuries    87474 non-null  float64       \n",
      " 11  Total.Serious.Injuries  87474 non-null  float64       \n",
      " 12  Total.Minor.Injuries    87474 non-null  float64       \n",
      " 13  Total.Uninjured         87474 non-null  float64       \n",
      " 14  Weather.Condition       87474 non-null  object        \n",
      " 15  Broad.phase.of.flight   87474 non-null  object        \n",
      " 16  Event Year              87474 non-null  int64         \n",
      "dtypes: datetime64[ns](1), float64(5), int64(1), object(10)\n",
      "memory usage: 12.0+ MB\n",
      "None\n",
      "________________________________________________________________________________\n"
     ]
    }
   ],
   "source": [
    "print(\"__\"*40)\n",
    "print(f\" Dataset contains {clean_df.shape[0]} Rows and {clean_df.shape[1]} Columns.\")\n",
    "print(\"__\"*40)\n",
    "\n",
    "print(clean_df.info())\n",
    "print(\"__\"*40)"
   ]
  },
  {
   "cell_type": "markdown",
   "id": "4bc25051",
   "metadata": {},
   "source": [
    "# **4. Data Analysis**"
   ]
  },
  {
   "cell_type": "code",
   "execution_count": 99,
   "id": "e5f8ab4b",
   "metadata": {},
   "outputs": [],
   "source": [
    "#set visualization style\n",
    "\n",
    "sns.set_style(\"whitegrid\")\n",
    "plt.rcParams[\"figure.figsize\"] =(10,6)"
   ]
  },
  {
   "cell_type": "markdown",
   "id": "5e67ff26",
   "metadata": {},
   "source": [
    "##### **4.1 Fatal accidents by manufacturer and model Analysis**"
   ]
  },
  {
   "cell_type": "code",
   "execution_count": 100,
   "id": "68d8d911",
   "metadata": {},
   "outputs": [
    {
     "data": {
      "text/html": [
       "<div>\n",
       "<style scoped>\n",
       "    .dataframe tbody tr th:only-of-type {\n",
       "        vertical-align: middle;\n",
       "    }\n",
       "\n",
       "    .dataframe tbody tr th {\n",
       "        vertical-align: top;\n",
       "    }\n",
       "\n",
       "    .dataframe thead th {\n",
       "        text-align: right;\n",
       "    }\n",
       "</style>\n",
       "<table border=\"1\" class=\"dataframe\">\n",
       "  <thead>\n",
       "    <tr style=\"text-align: right;\">\n",
       "      <th></th>\n",
       "      <th>Make</th>\n",
       "      <th>Model</th>\n",
       "      <th>Total.Fatal.Injuries</th>\n",
       "    </tr>\n",
       "  </thead>\n",
       "  <tbody>\n",
       "    <tr>\n",
       "      <th>0</th>\n",
       "      <td>BOEING</td>\n",
       "      <td>737</td>\n",
       "      <td>1348.0</td>\n",
       "    </tr>\n",
       "    <tr>\n",
       "      <th>1</th>\n",
       "      <td>BOEING</td>\n",
       "      <td>737-200</td>\n",
       "      <td>802.0</td>\n",
       "    </tr>\n",
       "    <tr>\n",
       "      <th>2</th>\n",
       "      <td>BOEING</td>\n",
       "      <td>777 - 206</td>\n",
       "      <td>534.0</td>\n",
       "    </tr>\n",
       "    <tr>\n",
       "      <th>3</th>\n",
       "      <td>CESSNA</td>\n",
       "      <td>172N</td>\n",
       "      <td>425.0</td>\n",
       "    </tr>\n",
       "    <tr>\n",
       "      <th>4</th>\n",
       "      <td>BOEING</td>\n",
       "      <td>MD-82</td>\n",
       "      <td>403.0</td>\n",
       "    </tr>\n",
       "    <tr>\n",
       "      <th>5</th>\n",
       "      <td>CESSNA</td>\n",
       "      <td>172</td>\n",
       "      <td>398.0</td>\n",
       "    </tr>\n",
       "    <tr>\n",
       "      <th>6</th>\n",
       "      <td>CESSNA</td>\n",
       "      <td>152</td>\n",
       "      <td>390.0</td>\n",
       "    </tr>\n",
       "    <tr>\n",
       "      <th>7</th>\n",
       "      <td>AIRBUS</td>\n",
       "      <td>A321</td>\n",
       "      <td>381.0</td>\n",
       "    </tr>\n",
       "    <tr>\n",
       "      <th>8</th>\n",
       "      <td>PIPER</td>\n",
       "      <td>PA-28-181</td>\n",
       "      <td>380.0</td>\n",
       "    </tr>\n",
       "    <tr>\n",
       "      <th>9</th>\n",
       "      <td>BOEING</td>\n",
       "      <td>747-168</td>\n",
       "      <td>349.0</td>\n",
       "    </tr>\n",
       "  </tbody>\n",
       "</table>\n",
       "</div>"
      ],
      "text/plain": [
       "     Make      Model  Total.Fatal.Injuries\n",
       "0  BOEING        737                1348.0\n",
       "1  BOEING    737-200                 802.0\n",
       "2  BOEING  777 - 206                 534.0\n",
       "3  CESSNA       172N                 425.0\n",
       "4  BOEING      MD-82                 403.0\n",
       "5  CESSNA        172                 398.0\n",
       "6  CESSNA        152                 390.0\n",
       "7  AIRBUS       A321                 381.0\n",
       "8   PIPER  PA-28-181                 380.0\n",
       "9  BOEING    747-168                 349.0"
      ]
     },
     "execution_count": 100,
     "metadata": {},
     "output_type": "execute_result"
    }
   ],
   "source": [
    "# Selecting fatal accidents only to concentrate the High-Risk accidents.\n",
    "\n",
    "fatal_accidents_df=clean_df[clean_df[\"Injury.Severity\"].str.startswith(\"FATAL\")]\n",
    "\n",
    "#group by Make and Model\n",
    "\n",
    "fatal_by_make_model_grouped =(fatal_accidents_df.groupby([\"Make\",\"Model\"]).agg({\"Total.Fatal.Injuries\": 'sum'}).sort_values(by=\"Total.Fatal.Injuries\",ascending=False).reset_index())\n",
    "\n",
    "#top 10 deadliest aircrafts\n",
    "Top_10_fatal_Models = fatal_by_make_model_grouped.head(10)\n",
    "\n",
    "Top_10_fatal_Models"
   ]
  },
  {
   "cell_type": "markdown",
   "id": "94033b5f",
   "metadata": {},
   "source": [
    "*4.1.2 Top10 Fatal Models Visualization*"
   ]
  },
  {
   "cell_type": "code",
   "execution_count": 101,
   "id": "8ad7c6f8",
   "metadata": {},
   "outputs": [
    {
     "data": {
      "image/png": "[encoded data removed]",
      "text/plain": [
       "<Figure size 1000x600 with 1 Axes>"
      ]
     },
     "metadata": {},
     "output_type": "display_data"
    }
   ],
   "source": [
    "#Bar plot of top 10\n",
    "\n",
    "sns.barplot(data=Top_10_fatal_Models, \n",
    "            x=\"Total.Fatal.Injuries\", \n",
    "            y=\"Model\",hue=\"Make\", \n",
    "            dodge=False, \n",
    "            palette=\"viridis\")\n",
    "plt.title(\"Top 10 Aircraft Models by Fatal Injuries\")\n",
    "plt.xlabel(\"Total Fatal Injuries\")\n",
    "plt.ylabel(\"Aircraft Model\")\n",
    "plt.legend(title=\"Manufacturer\")\n",
    "plt.tight_layout()\n",
    "\n"
   ]
  },
  {
   "cell_type": "markdown",
   "id": "f4269cf6",
   "metadata": {},
   "source": [
    "**Top 10 Aircraft Models by Fatal Injuries visual observation**\n",
    "\n",
    "- Boeing aircrafts are dominant and top of the list (position one to 3 by model) probably due to their widespread use but also warrants a closer examination of its safety records. \n",
    "- Cessna comes in forth, raising alarm noting it is a smaller aircraft often used in training and non-commercial activities. This raises questions around pilot experiences, flight conditions and maintenance as they are mostly flown by private pilots. \n",
    "- Airbus A321 and Piper PA-28-181 appear in the list but with fewer fatal injuries but still significant to be in the top list. \n",
    "- Commercial aircrafts are more in the fatal list due to their high flight numbers but smaller aircrafts like (Cessna, Piper) are also noted to have high fatal injuries.\n",
    "\n",
    "**Business Insight and recomendation**\n",
    "\n",
    "- Conduct detailed safety reviews before purchasing a boeing or Cessna models. "
   ]
  },
  {
   "cell_type": "markdown",
   "id": "72d1bcf7",
   "metadata": {},
   "source": [
    "##### **4.2 Are there specific phases of flight or weather conditions that present higher risks?**"
   ]
  },
  {
   "cell_type": "markdown",
   "id": "72740f5e",
   "metadata": {},
   "source": [
    "**a. Risk by Phase of flight**"
   ]
  },
  {
   "cell_type": "code",
   "execution_count": 102,
   "id": "79005ace",
   "metadata": {},
   "outputs": [
    {
     "data": {
      "text/html": [
       "<div>\n",
       "<style scoped>\n",
       "    .dataframe tbody tr th:only-of-type {\n",
       "        vertical-align: middle;\n",
       "    }\n",
       "\n",
       "    .dataframe tbody tr th {\n",
       "        vertical-align: top;\n",
       "    }\n",
       "\n",
       "    .dataframe thead th {\n",
       "        text-align: right;\n",
       "    }\n",
       "</style>\n",
       "<table border=\"1\" class=\"dataframe\">\n",
       "  <thead>\n",
       "    <tr style=\"text-align: right;\">\n",
       "      <th></th>\n",
       "      <th>Phase of Flight</th>\n",
       "      <th>Number of Accidents</th>\n",
       "    </tr>\n",
       "  </thead>\n",
       "  <tbody>\n",
       "    <tr>\n",
       "      <th>0</th>\n",
       "      <td>LANDING</td>\n",
       "      <td>15384</td>\n",
       "    </tr>\n",
       "    <tr>\n",
       "      <th>1</th>\n",
       "      <td>TAKEOFF</td>\n",
       "      <td>12435</td>\n",
       "    </tr>\n",
       "    <tr>\n",
       "      <th>2</th>\n",
       "      <td>CRUISE</td>\n",
       "      <td>10208</td>\n",
       "    </tr>\n",
       "    <tr>\n",
       "      <th>3</th>\n",
       "      <td>MANEUVERING</td>\n",
       "      <td>8116</td>\n",
       "    </tr>\n",
       "    <tr>\n",
       "      <th>4</th>\n",
       "      <td>APPROACH</td>\n",
       "      <td>6517</td>\n",
       "    </tr>\n",
       "    <tr>\n",
       "      <th>5</th>\n",
       "      <td>CLIMB</td>\n",
       "      <td>2020</td>\n",
       "    </tr>\n",
       "    <tr>\n",
       "      <th>6</th>\n",
       "      <td>TAXI</td>\n",
       "      <td>1950</td>\n",
       "    </tr>\n",
       "    <tr>\n",
       "      <th>7</th>\n",
       "      <td>DESCENT</td>\n",
       "      <td>1874</td>\n",
       "    </tr>\n",
       "    <tr>\n",
       "      <th>8</th>\n",
       "      <td>GO-AROUND</td>\n",
       "      <td>1351</td>\n",
       "    </tr>\n",
       "    <tr>\n",
       "      <th>9</th>\n",
       "      <td>STANDING</td>\n",
       "      <td>934</td>\n",
       "    </tr>\n",
       "    <tr>\n",
       "      <th>10</th>\n",
       "      <td>OTHER</td>\n",
       "      <td>119</td>\n",
       "    </tr>\n",
       "  </tbody>\n",
       "</table>\n",
       "</div>"
      ],
      "text/plain": [
       "   Phase of Flight  Number of Accidents\n",
       "0          LANDING                15384\n",
       "1          TAKEOFF                12435\n",
       "2           CRUISE                10208\n",
       "3      MANEUVERING                 8116\n",
       "4         APPROACH                 6517\n",
       "5            CLIMB                 2020\n",
       "6             TAXI                 1950\n",
       "7          DESCENT                 1874\n",
       "8        GO-AROUND                 1351\n",
       "9         STANDING                  934\n",
       "10           OTHER                  119"
      ]
     },
     "execution_count": 102,
     "metadata": {},
     "output_type": "execute_result"
    }
   ],
   "source": [
    "#Accidents grouped by Known phase\n",
    "#We are excluding accidents with unknown phase of flight\n",
    "\n",
    "Phase_risk = (clean_df[clean_df[\"Broad.phase.of.flight\"]!='UNKNOWN']['Broad.phase.of.flight'].value_counts().reset_index().rename(columns={'index': 'Phase of Flight', 'Broad.phase.of.flight': 'Number of Accidents'}))\n",
    "\n",
    "#overview\n",
    "Phase_risk"
   ]
  },
  {
   "cell_type": "markdown",
   "id": "8467b018",
   "metadata": {},
   "source": [
    "**b. Risk by Weather Condition**"
   ]
  },
  {
   "cell_type": "code",
   "execution_count": 103,
   "id": "719ac78e",
   "metadata": {},
   "outputs": [
    {
     "data": {
      "text/html": [
       "<div>\n",
       "<style scoped>\n",
       "    .dataframe tbody tr th:only-of-type {\n",
       "        vertical-align: middle;\n",
       "    }\n",
       "\n",
       "    .dataframe tbody tr th {\n",
       "        vertical-align: top;\n",
       "    }\n",
       "\n",
       "    .dataframe thead th {\n",
       "        text-align: right;\n",
       "    }\n",
       "</style>\n",
       "<table border=\"1\" class=\"dataframe\">\n",
       "  <thead>\n",
       "    <tr style=\"text-align: right;\">\n",
       "      <th></th>\n",
       "      <th>Weather Condition</th>\n",
       "      <th>Number of Accidents</th>\n",
       "    </tr>\n",
       "  </thead>\n",
       "  <tbody>\n",
       "    <tr>\n",
       "      <th>0</th>\n",
       "      <td>CLEAR WEATHER</td>\n",
       "      <td>76967</td>\n",
       "    </tr>\n",
       "    <tr>\n",
       "      <th>1</th>\n",
       "      <td>BAD WEATHER</td>\n",
       "      <td>5941</td>\n",
       "    </tr>\n",
       "    <tr>\n",
       "      <th>2</th>\n",
       "      <td>UNKNOWN</td>\n",
       "      <td>4566</td>\n",
       "    </tr>\n",
       "  </tbody>\n",
       "</table>\n",
       "</div>"
      ],
      "text/plain": [
       "  Weather Condition  Number of Accidents\n",
       "0     CLEAR WEATHER                76967\n",
       "1       BAD WEATHER                 5941\n",
       "2           UNKNOWN                 4566"
      ]
     },
     "execution_count": 103,
     "metadata": {},
     "output_type": "execute_result"
    }
   ],
   "source": [
    "#Fatal Accidents grouped by weather\n",
    "\n",
    "weather_risk = (clean_df[\"Weather.Condition\"].value_counts().reset_index().rename(columns={'index': 'Weather Condition', 'Weather.Condition': 'Number of Accidents'}))\n",
    "\n",
    "#Overview\n",
    "weather_risk\n"
   ]
  },
  {
   "cell_type": "markdown",
   "id": "1f51d10f",
   "metadata": {},
   "source": [
    "*4.2.1 Phase and weather Visualization*"
   ]
  },
  {
   "cell_type": "code",
   "execution_count": 104,
   "id": "9c560336",
   "metadata": {},
   "outputs": [
    {
     "data": {
      "image/png": "[encoded data removed]",
      "text/plain": [
       "<Figure size 1000x600 with 2 Axes>"
      ]
     },
     "metadata": {},
     "output_type": "display_data"
    }
   ],
   "source": [
    "#creating two visuals in same subplot\n",
    "\n",
    "fig, axs = plt.subplots(1, 2, figsize=(10,6))\n",
    "\n",
    "#Phase flight\n",
    "\n",
    "sns.barplot(data=Phase_risk,x=\"Number of Accidents\", y=\"Phase of Flight\",palette=\"viridis\", ax=axs[0])\n",
    "axs[0].set_title(\"Accidents by Phase of Flight\")\n",
    "axs[0].set_xlabel(\"No of Accidents\")\n",
    "axs[0].set_ylabel(\"Phase of Flight\")\n",
    "for i, v in enumerate(Phase_risk[\"Number of Accidents\"]):\n",
    "    axs[0].text(v+0.5, i, str(v),va=\"center\")\n",
    "\n",
    "\n",
    "#Phase flight\n",
    "\n",
    "axs[1].pie(weather_risk[\"Number of Accidents\"], labels=weather_risk[\"Weather Condition\"],autopct='%1.1f%%',\n",
    "           colors=sns.color_palette(\"viridis\", len(weather_risk)))\n",
    "axs[1].set_title(\"Accidents by Weather\")\n",
    "\n",
    "plt.tight_layout()\n"
   ]
  },
  {
   "cell_type": "markdown",
   "id": "1eb31a7a",
   "metadata": {},
   "source": [
    "**Phase and weather Visualization**\n",
    "*Phase*\n",
    "- Landing is critical as it has the highest number of fatal accidents. (15,384 cases), followed by Takeoff(12,435) and Cruise (10,208). Business should invest on trainings in this areas and more strict rules. \n",
    "- Maneuvering and cruise also shows significant count\n",
    "*Weather Condtion*\n",
    "- its noted that 88% of fatal accidents occur in clear weather and not in bad weather highlighting that other factors contribute to accidents. \n",
    "\n",
    "\n",
    "**Business Insight and recommendation**\n",
    "\n",
    "- landing, takeoff, and cruise phases should be targeted for more trainings\n",
    "- weather conditions do not influence accidents, hence human factor trainings should be emphasised at all times."
   ]
  },
  {
   "cell_type": "markdown",
   "id": "a2542860",
   "metadata": {},
   "source": [
    "##### **4.3 Accidents trend over time**"
   ]
  },
  {
   "cell_type": "code",
   "execution_count": 105,
   "id": "8c3a72e3",
   "metadata": {},
   "outputs": [
    {
     "name": "stdout",
     "output_type": "stream",
     "text": [
      "Fatal Accidents (Pre-1981 Data):\n",
      "   Event Year  Number of Fatal Accidents\n",
      "0        1948                          1\n",
      "1        1962                          1\n",
      "2        1974                          1\n",
      "3        1977                          1\n",
      "4        1979                          1\n",
      "5        1981                          1\n",
      "-------------------------------------------\n",
      "Fatal Accidents (Post-1981 Data):\n",
      "    Event Year  Number of Fatal Accidents\n",
      "0         1983                        658\n",
      "1         1982                        645\n",
      "2         1984                        622\n",
      "3         1985                        566\n",
      "4         1986                        522\n",
      "5         1990                        511\n",
      "6         1992                        507\n",
      "7         1988                        507\n",
      "8         1987                        501\n",
      "9         1991                        495\n",
      "10        1989                        494\n",
      "11        1995                        461\n",
      "12        1994                        460\n",
      "13        2000                        454\n",
      "14        2003                        445\n",
      "15        1993                        444\n",
      "16        1998                        432\n",
      "17        2005                        427\n",
      "18        1996                        424\n",
      "19        2004                        423\n",
      "20        2002                        420\n",
      "21        2001                        415\n",
      "22        1997                        411\n",
      "23        1999                        409\n",
      "24        2006                        408\n",
      "25        2011                        395\n",
      "26        2007                        385\n",
      "27        2012                        383\n",
      "28        2008                        381\n",
      "29        2019                        377\n",
      "30        2015                        365\n",
      "31        2010                        361\n",
      "32        2014                        360\n",
      "33        2018                        359\n",
      "34        2009                        358\n",
      "35        2013                        344\n",
      "36        2016                        341\n",
      "37        2017                        338\n",
      "38        2022                        303\n",
      "39        2020                        292\n",
      "40        2021                        291\n"
     ]
    }
   ],
   "source": [
    "#we work with fatal accidents per year to check high-risk accidents\n",
    "#Very few records exist before 1980, so trend analysis focuses on post-1981 data\n",
    "\n",
    "#spliting data\n",
    "\n",
    "fatal_trend_post1981 = (fatal_accidents_df[fatal_accidents_df[\"Event Year\"]>1981][\"Event Year\"].value_counts().reset_index().rename(columns={\"index\":\"Event Year\",\"Event Year\":\"Number of Fatal Accidents\"}))\n",
    "\n",
    "fatal_trend_pre1981 = (fatal_accidents_df[fatal_accidents_df[\"Event Year\"]<=1981][\"Event Year\"].value_counts().reset_index().rename(columns={\"index\":\"Event Year\",\"Event Year\":\"Number of Fatal Accidents\"}))\n",
    "\n",
    "#Overview\n",
    "\n",
    "print(\"Fatal Accidents (Pre-1981 Data):\")\n",
    "print(fatal_trend_pre1981)    # pre-1981\n",
    "print(\"-\"*43)\n",
    "print(\"Fatal Accidents (Post-1981 Data):\")\n",
    "print(fatal_trend_post1981)            # post-1981\n"
   ]
  },
  {
   "cell_type": "markdown",
   "id": "48a762e7",
   "metadata": {},
   "source": [
    "*4.3.1 Fatal_trend Visualization*"
   ]
  },
  {
   "cell_type": "code",
   "execution_count": 106,
   "id": "3bafa3d6",
   "metadata": {},
   "outputs": [
    {
     "data": {
      "text/plain": [
       "Text(0.5, 1.0, 'Accident Trend YoY')"
      ]
     },
     "execution_count": 106,
     "metadata": {},
     "output_type": "execute_result"
    },
    {
     "data": {
      "image/png": "[encoded data removed]",
      "text/plain": [
       "<Figure size 1000x600 with 1 Axes>"
      ]
     },
     "metadata": {},
     "output_type": "display_data"
    }
   ],
   "source": [
    "#plot the lineplot for year on year trend\n",
    "#\n",
    "\n",
    "sns.lineplot(data=fatal_trend_post1981,y=\"Number of Fatal Accidents\",x=\"Event Year\", marker='o')\n",
    "plt.title(\"Accident Trend YoY\")\n"
   ]
  },
  {
   "cell_type": "markdown",
   "id": "796931f6",
   "metadata": {},
   "source": [
    "**Fatal_trend Observation**\n",
    "- Aviation accidenst have generally decliened over the years. \n",
    "- noted small spikes in some years but overall ther accidents have declined over the rears.\n",
    "\n",
    "**Business Insight and recommendation**\n",
    "- Focus investments on newer aircrafts for safety as they tend to come with new advanced safety technologies."
   ]
  },
  {
   "cell_type": "markdown",
   "id": "9172306d",
   "metadata": {},
   "source": [
    "##### **4.4 Correlation Analysis on injuries**"
   ]
  },
  {
   "cell_type": "code",
   "execution_count": 107,
   "id": "1ad6173a",
   "metadata": {},
   "outputs": [
    {
     "data": {
      "text/plain": [
       "Text(0.5, 1.0, 'Correlation on Injury types')"
      ]
     },
     "execution_count": 107,
     "metadata": {},
     "output_type": "execute_result"
    },
    {
     "data": {
      "image/png": "[encoded data removed]",
      "text/plain": [
       "<Figure size 1000x600 with 2 Axes>"
      ]
     },
     "metadata": {},
     "output_type": "display_data"
    }
   ],
   "source": [
    "#injury only columns\n",
    "\n",
    "corr_matrix = clean_df[injury_cols].corr()\n",
    "\n",
    "#heatmap\n",
    "\n",
    "sns.heatmap(data=corr_matrix,annot=True,cmap=\"coolwarm\",fmt=\".2f\")\n",
    "plt.title(\"Correlation on Injury types\")"
   ]
  },
  {
   "cell_type": "markdown",
   "id": "b263ae51",
   "metadata": {},
   "source": [
    "**Fatal_trend Visualization Observation**\n",
    "- Correlations are minimal (none above 0.22), suggesting injury types behaves fairly independently.\n",
    "\n",
    "**Business Insight and recomendation**\n",
    "- Distinct safety strategies to be adopted. One-size-fits-all  won't maximize results on injuries cause. "
   ]
  },
  {
   "cell_type": "markdown",
   "id": "a4fb2997",
   "metadata": {},
   "source": [
    "# **5. Conclusion and Overall Recomendations**"
   ]
  },
  {
   "cell_type": "markdown",
   "id": "e96c0c1e",
   "metadata": {},
   "source": [
    "**Based on observation and recommedations given in each visual and analysis to enable guidance on safer investment and operation decisions; below conclusion and recomendations are proposed** \n",
    "\n",
    "### Conclusion\n",
    "\n",
    "1. ***Aircraft Models and Fatalities*** \n",
    "- Boeing aircrafts are dominant in the list likely due to their widespread use but also warrants a closer examination of its safety records. \n",
    "- Though Cessna are mostly flown by private pilots for non-commercial activies and small in size, they are fatal and deeper analysis e.g pilots experience and maintanance should be checked. \n",
    "\n",
    "2. ***Flight Phase and Accident Risk*** \n",
    "- Landing(15,384 cases), Takeoff(12,435) and Cruise (10,208)are the riskiest and more training investment should go towards that. \n",
    "- shockingly 88% of fatal accidents occur in clear weather highlighting that other factors contribute to accidents like human errors, technical faults, or operational risks play a larger role than adverse weather alone\n",
    "\n",
    "3. ***Fatal_trend over time*** \n",
    "- Aviation accidenst have generally decliened over the years with small spikes in some years that cant affect the downward overall decline. \n",
    "- clearly shows technology has improved and purchasing new models is safer\n",
    "\n",
    "4. **Injuries preventions**\n",
    "- The correlations are low and hence each behave independently and should be handled independently on precation measures taken\n",
    "\n",
    "\n",
    "\n",
    "### Recomendations\n",
    "\n",
    "1. ***Aircraft Selection*** \n",
    "- Conduct detailed safety reviews before purchasing a boeing or Cessna models. \n",
    "- invest in newew models which will have improved technological advancements\n",
    "2. ***Pilot Training and operations***\n",
    "- Based on flight phase accidents; invest on proper trainings on Landing, Takeoff and Cruise. \n",
    "- Also noted is weather conditions do not influence accidents, hence human factor trainings should be emphasised at all times.\n",
    "3. ***Maintenance and Inspections***\n",
    "- Small and private aircrafts like Cessna and Piper should go under thorough maintenance and inspections noting the high risks\n",
    "4. ***Tailored Safety Strategies***\n",
    "- Develope distinct injury mitigation stategies noting they are independent and one-size-fit-all approach will not prevent the diverse causes of injuries. \n"
   ]
  }
 ],
 "metadata": {
  "kernelspec": {
   "display_name": "learn-env",
   "language": "python",
   "name": "python3"
  },
  "language_info": {
   "codemirror_mode": {
    "name": "ipython",
    "version": 3
   },
   "file_extension": ".py",
   "mimetype": "text/x-python",
   "name": "python",
   "nbconvert_exporter": "python",
   "pygments_lexer": "ipython3",
   "version": "3.8.5"
  }
 },
 "nbformat": 4,
 "nbformat_minor": 5
}
